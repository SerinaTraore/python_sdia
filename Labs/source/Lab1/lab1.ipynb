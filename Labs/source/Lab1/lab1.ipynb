{
 "cells": [
  {
   "cell_type": "markdown",
   "metadata": {},
   "source": [
    "# Practical session 1 - Some Python basics\n",
    "\n",
    "Students (pair):\n",
    "Test\n",
    "- [Alexandre LECOMTE](https://github.com/tribulle)\n",
    "- [Serina TRAORE](https://github.com/username2)\n"
   ]
  },
  {
   "cell_type": "markdown",
   "metadata": {},
   "source": [
    "```\n",
    "conda create --name=lab1 --file=requirement.txt \n",
    "conda activate lab1\n",
    "# do not forget to deactivate the environment if needed\n",
    "# you can remove the environment once you are done\n",
    "conda env remove --name=lab1\n",
    "```"
   ]
  },
  {
   "cell_type": "code",
   "execution_count": 1,
   "metadata": {},
   "outputs": [],
   "source": [
    "%load_ext autoreload\n",
    "%autoreload 2"
   ]
  },
  {
   "cell_type": "markdown",
   "metadata": {},
   "source": [
    "## Documentation\n",
    "\n",
    "To display the documentation associated to a Python function in your notebook (launched in VSCode), you can either\n",
    "- run `?functionname` or `help(my_adder)`\n",
    "- place your mouse pointer on the function name\n",
    "- write the name of the function and start opening the brackets"
   ]
  },
  {
   "cell_type": "markdown",
   "metadata": {},
   "source": [
    "## Zen of Python\n"
   ]
  },
  {
   "cell_type": "code",
   "execution_count": 2,
   "metadata": {},
   "outputs": [
    {
     "name": "stdout",
     "output_type": "stream",
     "text": [
      "The Zen of Python, by Tim Peters\n",
      "\n",
      "Beautiful is better than ugly.\n",
      "Explicit is better than implicit.\n",
      "Simple is better than complex.\n",
      "Complex is better than complicated.\n",
      "Flat is better than nested.\n",
      "Sparse is better than dense.\n",
      "Readability counts.\n",
      "Special cases aren't special enough to break the rules.\n",
      "Although practicality beats purity.\n",
      "Errors should never pass silently.\n",
      "Unless explicitly silenced.\n",
      "In the face of ambiguity, refuse the temptation to guess.\n",
      "There should be one-- and preferably only one --obvious way to do it.\n",
      "Although that way may not be obvious at first unless you're Dutch.\n",
      "Now is better than never.\n",
      "Although never is often better than *right* now.\n",
      "If the implementation is hard to explain, it's a bad idea.\n",
      "If the implementation is easy to explain, it may be a good idea.\n",
      "Namespaces are one honking great idea -- let's do more of those!\n"
     ]
    }
   ],
   "source": [
    "import this"
   ]
  },
  {
   "cell_type": "markdown",
   "metadata": {},
   "source": [
    "## Reserved keywords\n"
   ]
  },
  {
   "cell_type": "code",
   "execution_count": 3,
   "metadata": {},
   "outputs": [
    {
     "name": "stdout",
     "output_type": "stream",
     "text": [
      "['False', 'None', 'True', 'and', 'as', 'assert', 'async', 'await', 'break', 'class', 'continue', 'def', 'del', 'elif', 'else', 'except', 'finally', 'for', 'from', 'global', 'if', 'import', 'in', 'is', 'lambda', 'nonlocal', 'not', 'or', 'pass', 'raise', 'return', 'try', 'while', 'with', 'yield']\n"
     ]
    }
   ],
   "source": [
    "import keyword\n",
    "print(keyword.kwlist)"
   ]
  },
  {
   "cell_type": "markdown",
   "metadata": {},
   "source": [
    "## Arithmetic"
   ]
  },
  {
   "cell_type": "markdown",
   "metadata": {},
   "source": [
    "Compute 4 raised to the power 8"
   ]
  },
  {
   "cell_type": "code",
   "execution_count": 4,
   "metadata": {},
   "outputs": [
    {
     "name": "stdout",
     "output_type": "stream",
     "text": [
      "65536\n"
     ]
    }
   ],
   "source": [
    "def compute_power(base, exponent):\n",
    "    return base ** exponent\n",
    "\n",
    "print(compute_power(4, 8))\n",
    "\n",
    "assert compute_power(4, 8) == 65536"
   ]
  },
  {
   "cell_type": "markdown",
   "metadata": {},
   "source": [
    "Compute the quotient and the remainder of the euclidean division of 17 by 3. "
   ]
  },
  {
   "cell_type": "code",
   "execution_count": 5,
   "metadata": {},
   "outputs": [
    {
     "name": "stdout",
     "output_type": "stream",
     "text": [
      "(5, 2)\n"
     ]
    }
   ],
   "source": [
    "def compute_quotient_remainder(dividend=17, divisor=3):\n",
    "    return dividend // divisor, dividend % divisor\n",
    "\n",
    "print(compute_quotient_remainder())\n",
    "\n",
    "assert compute_quotient_remainder() == (5, 2)"
   ]
  },
  {
   "cell_type": "markdown",
   "metadata": {},
   "source": [
    "Create two integer variables `a, b` of your choice and swap their content."
   ]
  },
  {
   "cell_type": "code",
   "execution_count": 6,
   "metadata": {},
   "outputs": [
    {
     "name": "stdout",
     "output_type": "stream",
     "text": [
      "10 5\n"
     ]
    }
   ],
   "source": [
    "def swap(a, b):\n",
    "    return b, a\n",
    "\n",
    "a, b = 5, 10\n",
    "a, b = swap(a, b)\n",
    "print(a, b)  # Affiche: 10 5\n",
    "\n",
    "assert swap(10, 5) == (5, 10)\n"
   ]
  },
  {
   "cell_type": "markdown",
   "metadata": {},
   "source": [
    "Modify `a` inplace, so that the new value of `a` is twice its previous value."
   ]
  },
  {
   "cell_type": "code",
   "execution_count": 7,
   "metadata": {},
   "outputs": [],
   "source": [
    "def double_inplace(a):\n",
    "    return a * 2\n",
    "\n",
    "assert double_inplace(5) == 10\n",
    "assert double_inplace(10) == 20\n",
    "assert double_inplace(1.5) == 2 * 1.5"
   ]
  },
  {
   "cell_type": "markdown",
   "metadata": {},
   "source": [
    "Define a complex number `z` object and print it as\n",
    "\n",
    "`(real=z.real, imag=z.imaginary)`"
   ]
  },
  {
   "cell_type": "code",
   "execution_count": 8,
   "metadata": {},
   "outputs": [
    {
     "name": "stdout",
     "output_type": "stream",
     "text": [
      "(real=3.0, imag=4.0)\n"
     ]
    }
   ],
   "source": [
    "def extract_real_imag(z):\n",
    "    return z.real, z.imag\n",
    "\n",
    "z = complex(3, 4)\n",
    "real, imag = extract_real_imag(z)\n",
    "print(f'(real={real}, imag={imag})')  # Affiche: (real=3.0, imag=4.0)\n",
    "\n",
    "assert extract_real_imag(complex(3, 4)) == (3.0, 4.0)\n"
   ]
  },
  {
   "cell_type": "markdown",
   "metadata": {},
   "source": [
    "## Strings\n"
   ]
  },
  {
   "cell_type": "markdown",
   "metadata": {},
   "source": [
    "Propose two ways to define an empty string"
   ]
  },
  {
   "cell_type": "code",
   "execution_count": 9,
   "metadata": {},
   "outputs": [],
   "source": [
    "def create_empty_strings():\n",
    "    empty_string1 = ''\n",
    "    empty_string2 = str()\n",
    "    return empty_string1, empty_string2\n",
    "\n",
    "empty_string1, empty_string2 = create_empty_strings()\n",
    "assert empty_string1 == \"\"\n",
    "assert empty_string2 == \"\""
   ]
  },
  {
   "cell_type": "markdown",
   "metadata": {},
   "source": [
    "Define a string made of the 26 letters of the alphabet (lower case), then\n",
    "- What is the 12th letter of the alphabet\n",
    "- What are the 10 last letters of the alphabet\n",
    "- What are the 5th to the 10th letters of the alphabet\n",
    "- Create a new string where the 26 letters are converted to upper case."
   ]
  },
  {
   "cell_type": "code",
   "execution_count": 10,
   "metadata": {},
   "outputs": [
    {
     "name": "stdout",
     "output_type": "stream",
     "text": [
      "12th letter: l\n",
      "Last 10 letters: qrstuvwxyz\n",
      "5th to 10th letters: efghij\n",
      "Alphabet in uppercase: ABCDEFGHIJKLMNOPQRSTUVWXYZ\n"
     ]
    }
   ],
   "source": [
    "def manipulate_alphabet():\n",
    "    alphabet = 'abcdefghijklmnopqrstuvwxyz'\n",
    "\n",
    "    twelfth_letter = alphabet[11]  # 12th letter (index starts at 0)\n",
    "    last_10_letters = alphabet[-10:]  # Last 10 letters\n",
    "    fifth_to_tenth_letters = alphabet[4:10]  # From 5th to 10th letters\n",
    "    alphabet_upper = alphabet.upper()  # Convert to uppercase\n",
    "\n",
    "    return twelfth_letter, last_10_letters, fifth_to_tenth_letters, alphabet_upper\n",
    "\n",
    "twelfth, last_10, fifth_to_tenth, alphabet_upper = manipulate_alphabet()\n",
    "print(f'12th letter: {twelfth}')\n",
    "print(f'Last 10 letters: {last_10}')\n",
    "print(f'5th to 10th letters: {fifth_to_tenth}')\n",
    "print(f'Alphabet in uppercase: {alphabet_upper}')\n",
    "\n",
    "\n",
    "twelfth, last_10, fifth_to_tenth, alphabet_upper = manipulate_alphabet()\n",
    "assert twelfth == 'l'\n",
    "assert last_10 == 'qrstuvwxyz'\n",
    "assert fifth_to_tenth == 'efghij'\n",
    "assert alphabet_upper == 'ABCDEFGHIJKLMNOPQRSTUVWXYZ'\n"
   ]
  },
  {
   "cell_type": "markdown",
   "metadata": {},
   "source": [
    "Extract the first 4 digits of the number `x = 2341324530045968` (answer is `2341`)."
   ]
  },
  {
   "cell_type": "code",
   "execution_count": 11,
   "metadata": {},
   "outputs": [
    {
     "name": "stdout",
     "output_type": "stream",
     "text": [
      "2341\n"
     ]
    }
   ],
   "source": [
    "def extract_first_4_digits(x):\n",
    "    return str(x)[:4]\n",
    "\n",
    "x = 2341324530045968\n",
    "print(extract_first_4_digits(x))  # Affiche: 2341\n",
    "\n",
    "assert extract_first_4_digits(2341324530045968) == '2341'"
   ]
  },
  {
   "cell_type": "markdown",
   "metadata": {},
   "source": [
    "## Lists"
   ]
  },
  {
   "cell_type": "markdown",
   "metadata": {},
   "source": [
    "Propose two ways to define an empty list."
   ]
  },
  {
   "cell_type": "code",
   "execution_count": 12,
   "metadata": {},
   "outputs": [],
   "source": [
    "def create_empty_lists():\n",
    "    L1 = []\n",
    "    L2 = list()\n",
    "    return L1, L2\n",
    "\n",
    "L1, L2 = create_empty_lists()\n",
    "assert L1 == []\n",
    "assert L2 == []"
   ]
  },
  {
   "cell_type": "markdown",
   "metadata": {},
   "source": [
    "Create the list of consecutive integers from 5 to 11."
   ]
  },
  {
   "cell_type": "code",
   "execution_count": 13,
   "metadata": {},
   "outputs": [],
   "source": [
    "def consecutive_integers():\n",
    "    L = list(range(5, 12))\n",
    "    return L\n",
    "\n",
    "consecutive_integers()\n",
    "\n",
    "assert consecutive_integers() == [5, 6, 7, 8, 9, 10, 11]"
   ]
  },
  {
   "cell_type": "markdown",
   "metadata": {},
   "source": [
    "Add `100` to this list."
   ]
  },
  {
   "cell_type": "code",
   "execution_count": 14,
   "metadata": {},
   "outputs": [
    {
     "name": "stdout",
     "output_type": "stream",
     "text": [
      "[5, 6, 7, 100]\n"
     ]
    }
   ],
   "source": [
    "def add_100(L):\n",
    "    L.append(100)\n",
    "    return L\n",
    "\n",
    "L = [5, 6, 7]\n",
    "assert add_100(L) == [5, 6, 7, 100]\n",
    "print(L)"
   ]
  },
  {
   "cell_type": "markdown",
   "metadata": {},
   "source": [
    "Given the following list, \n",
    "Change the `\"sdia\"` to its reverse (`\"aids\"`)."
   ]
  },
  {
   "cell_type": "code",
   "execution_count": 15,
   "metadata": {},
   "outputs": [
    {
     "name": "stdout",
     "output_type": "stream",
     "text": [
      "[10, [3, 4], [5, [100, 200, ['aids']], 23, 11], 1, 7]\n",
      "Test passed: The string 'sdia' was reversed correctly.\n"
     ]
    }
   ],
   "source": [
    "def reverse_string_in_list(x):\n",
    "    # Access and reverse the string\n",
    "    x[2][1][2][0] = x[2][1][2][0][::-1]  # Reverses \"sdia\" to \"aids\"\n",
    "    return x\n",
    "\n",
    "# Example list\n",
    "x = [10, [3, 4], [5, [100, 200, [\"sdia\"]], 23, 11], 1, 7]\n",
    "\n",
    "# Test the function using an assert statement\n",
    "expected_result = [10, [3, 4], [5, [100, 200, [\"aids\"]], 23, 11], 1, 7]\n",
    "assert reverse_string_in_list(x) == expected_result, \"Test failed: The string 'sdia' was not reversed correctly.\"\n",
    "\n",
    "print(expected_result)\n",
    "print(\"Test passed: The string 'sdia' was reversed correctly.\")\n"
   ]
  },
  {
   "cell_type": "markdown",
   "metadata": {},
   "source": [
    "Given the following list, \n",
    "\n",
    "  1. extract the first two items\n",
    "  2. extract the last two items\n",
    "  3. find the index of the first occurence of `9`\n",
    "  4. extract the items located at odd indices\n",
    "  5. create a new list which corresponds to the reversed version of the originial list\n",
    "  6. create a new list where each item of the original list is raised to the power 3"
   ]
  },
  {
   "cell_type": "code",
   "execution_count": 16,
   "metadata": {},
   "outputs": [
    {
     "name": "stdout",
     "output_type": "stream",
     "text": [
      "First two items: [3, 7]\n",
      "Last two items: [3, 1]\n",
      "Index of first occurrence of 9: 11\n",
      "Items at odd indices: [7, 3, 6, 8, 7, 9, 4, 7, 9, 0, 9, 9, 1, 0, 5, 8, 9, 5, 9, 6, 8, 2, 9, 2, 1]\n",
      "Reversed list: [1, 3, 2, 2, 9, 4, 2, 5, 8, 2, 6, 5, 9, 4, 5, 5, 9, 9, 8, 5, 5, 5, 0, 4, 1, 3, 9, 0, 9, 0, 0, 5, 9, 0, 7, 2, 4, 3, 9, 3, 7, 0, 8, 8, 6, 8, 3, 5, 7, 3]\n",
      "Cubed list: [27, 343, 125, 27, 512, 216, 512, 512, 0, 343, 27, 729, 27, 64, 8, 343, 0, 729, 125, 0, 0, 729, 0, 729, 27, 1, 64, 0, 125, 125, 125, 512, 729, 729, 125, 125, 64, 729, 125, 216, 8, 512, 125, 8, 64, 729, 8, 8, 27, 1]\n"
     ]
    }
   ],
   "source": [
    "def manipulate_list(x):\n",
    "    first_two = x[:2]\n",
    "    last_two = x[-2:]\n",
    "    index_of_nine = x.index(9)\n",
    "    odd_indices_items = x[1::2]\n",
    "    reversed_list = x[::-1]\n",
    "    cubed_list = [i**3 for i in x]\n",
    "\n",
    "    return first_two, last_two, index_of_nine, odd_indices_items, reversed_list, cubed_list\n",
    "\n",
    "x = [3, 7, 5, 3, 8, 6, 8, 8, 0, 7, 3, 9, 3, 4, 2, 7, 0, 9, 5, 0, 0, 9, 0, 9, 3, 1, 4, 0, 5, 5, 5, 8, 9, 9, 5, 5, 4, 9, 5, 6, 2, 8, 5, 2, 4, 9, 2, 2, 3, 1]\n",
    "first_two, last_two, index_of_nine, odd_indices_items, reversed_list, cubed_list = manipulate_list(x)\n",
    "\n",
    "print(f'First two items: {first_two}')\n",
    "print(f'Last two items: {last_two}')\n",
    "print(f'Index of first occurrence of 9: {index_of_nine}')\n",
    "print(f'Items at odd indices: {odd_indices_items}')\n",
    "print(f'Reversed list: {reversed_list}')\n",
    "print(f'Cubed list: {cubed_list}')\n"
   ]
  },
  {
   "cell_type": "markdown",
   "metadata": {},
   "source": [
    "## Tuples"
   ]
  },
  {
   "cell_type": "markdown",
   "metadata": {},
   "source": [
    "\n",
    "Propose two ways to define an empty tuple."
   ]
  },
  {
   "cell_type": "code",
   "execution_count": 17,
   "metadata": {},
   "outputs": [],
   "source": [
    "def create_empty_tuples():\n",
    "    t1 = ()\n",
    "    t2 = tuple()\n",
    "    return t1, t2\n",
    "\n",
    "t1, t2 = create_empty_tuples()\n",
    "assert t1 == ()\n",
    "assert t2 == ()"
   ]
  },
  {
   "cell_type": "markdown",
   "metadata": {},
   "source": [
    "Given the following tuple\n",
    "- try to replace the second item (`4`) to `8`.\n",
    "- modify the list so that the second element of the first item is raised to the power 5 "
   ]
  },
  {
   "cell_type": "markdown",
   "metadata": {},
   "source": [
    "x = ([1, 2, 3], 4)"
   ]
  },
  {
   "cell_type": "code",
   "execution_count": 18,
   "metadata": {},
   "outputs": [
    {
     "name": "stdout",
     "output_type": "stream",
     "text": [
      "([1, 32, 3], 4)\n"
     ]
    },
    {
     "ename": "TypeError",
     "evalue": "'tuple' object does not support item assignment",
     "output_type": "error",
     "traceback": [
      "\u001b[1;31m---------------------------------------------------------------------------\u001b[0m",
      "\u001b[1;31mTypeError\u001b[0m                                 Traceback (most recent call last)",
      "Cell \u001b[1;32mIn[18], line 4\u001b[0m\n\u001b[0;32m      2\u001b[0m x[\u001b[38;5;241m0\u001b[39m][\u001b[38;5;241m1\u001b[39m] \u001b[38;5;241m=\u001b[39m x[\u001b[38;5;241m0\u001b[39m][\u001b[38;5;241m1\u001b[39m]\u001b[38;5;241m*\u001b[39m\u001b[38;5;241m*\u001b[39m\u001b[38;5;241m5\u001b[39m\n\u001b[0;32m      3\u001b[0m \u001b[38;5;28mprint\u001b[39m(x)\n\u001b[1;32m----> 4\u001b[0m x[\u001b[38;5;241m-\u001b[39m\u001b[38;5;241m1\u001b[39m] \u001b[38;5;241m=\u001b[39m \u001b[38;5;241m8\u001b[39m\n",
      "\u001b[1;31mTypeError\u001b[0m: 'tuple' object does not support item assignment"
     ]
    }
   ],
   "source": [
    "x = ([1, 2, 3], 4)\n",
    "x[0][1] = x[0][1]**5\n",
    "print(x)\n",
    "x[-1] = 8\n"
   ]
  },
  {
   "cell_type": "markdown",
   "metadata": {},
   "source": [
    "Tuples in Python are immutable, meaning that you cannot directly modify their elements. However, if a tuple contains mutable elements (like a list), you can modify those mutable elements without modifying the tuple itself."
   ]
  },
  {
   "cell_type": "markdown",
   "metadata": {},
   "source": [
    "What is the main difference between a list and a tuple?"
   ]
  },
  {
   "cell_type": "markdown",
   "metadata": {},
   "source": [
    "The main difference between a list and a tuple in Python is their mutability:\n",
    "Mutability:\n",
    "List: A list is mutable, meaning you can change its contents (e.g., add, remove, or modify elements) after it has been created.\n",
    "Tuple: A tuple is immutable, meaning once it is created, you cannot change, add, or remove its elements. However, if a tuple contains a mutable object (like a list), the contents of that mutable object can still be changed."
   ]
  },
  {
   "cell_type": "markdown",
   "metadata": {},
   "source": [
    "A tuple is imutable, we can't change it after create it"
   ]
  },
  {
   "cell_type": "markdown",
   "metadata": {},
   "source": [
    "## Sets"
   ]
  },
  {
   "cell_type": "markdown",
   "metadata": {},
   "source": [
    "Create an empty set"
   ]
  },
  {
   "cell_type": "markdown",
   "metadata": {},
   "source": [
    "Compute the intersection between $A = \\{1, 2, 3\\}$ and $B = \\{2, 4, 5, 6\\}$."
   ]
  },
  {
   "cell_type": "code",
   "execution_count": 19,
   "metadata": {},
   "outputs": [
    {
     "name": "stdout",
     "output_type": "stream",
     "text": [
      "{2}\n"
     ]
    }
   ],
   "source": [
    "def compute_intersection(A, B):\n",
    "    return A.intersection(B)\n",
    "\n",
    "A = {1, 2, 3}\n",
    "B = {2, 4, 5, 6}\n",
    "intersection = compute_intersection(A, B)\n",
    "print(intersection)\n",
    "\n",
    "assert compute_intersection(A, B) == {2}# Affiche: {2}\n"
   ]
  },
  {
   "cell_type": "markdown",
   "metadata": {},
   "source": [
    "From the following set\n",
    "- add the numbers 4, 5, 6\n",
    "- remove the numbers 1, 2, 3\n",
    "- check if the resulting set is contained in `{1, 2, 4, 5, 6, 10}` "
   ]
  },
  {
   "cell_type": "code",
   "execution_count": 20,
   "metadata": {},
   "outputs": [
    {
     "name": "stdout",
     "output_type": "stream",
     "text": [
      "{0, 4, 5, 6, 7, 8, 9, 10}\n",
      "False\n"
     ]
    }
   ],
   "source": [
    "def modify_and_check_set(x, reference_set):\n",
    "    # Ajouter 4, 5, 6\n",
    "    x.update([4, 5, 6])\n",
    "\n",
    "    # Retirer 1, 2, 3\n",
    "    x.difference_update([1, 2, 3])\n",
    "\n",
    "    # Vérifier si le set est un sous-ensemble du set de référence\n",
    "    return x, x.issubset(reference_set)\n",
    "\n",
    "x = {0, 1, 2, 3, 6, 7, 8, 9, 10}\n",
    "reference_set = {1, 2, 4, 5, 6, 10}\n",
    "\n",
    "x_modified, is_subset = modify_and_check_set(x, reference_set)\n",
    "print(x_modified)  # Affiche: {0, 4, 5, 6, 7, 8, 9, 10}\n",
    "print(is_subset)   # Affiche: False\n",
    "\n",
    "\n",
    "\n",
    "assert x_modified == {0, 4, 5, 6, 7, 8, 9, 10}\n",
    "assert is_subset == False\n"
   ]
  },
  {
   "cell_type": "markdown",
   "metadata": {},
   "source": [
    "## Dictionnaries"
   ]
  },
  {
   "cell_type": "markdown",
   "metadata": {},
   "source": [
    "Propose two ways to define an empty dictionary"
   ]
  },
  {
   "cell_type": "code",
   "execution_count": 21,
   "metadata": {},
   "outputs": [],
   "source": [
    "def create_empty_dict():\n",
    "    return {}, dict()\n",
    "\n",
    "dict1, dict2 = create_empty_dict()\n",
    "assert dict1 == {}\n",
    "assert dict2 == {}"
   ]
  },
  {
   "cell_type": "markdown",
   "metadata": {},
   "source": [
    "Propose at least 3 ways to define a dictionary with \n",
    "- keys `(\"a\", \"b\", \"c\", \"d\")`\n",
    "- values `(1, 3, 5 , 7)`"
   ]
  },
  {
   "cell_type": "code",
   "execution_count": 22,
   "metadata": {},
   "outputs": [],
   "source": [
    "def create_dict_direct():\n",
    "    return {'a': 1, 'b': 3, 'c': 5, 'd': 7}\n",
    "\n",
    "def create_dict_comprehension():\n",
    "    keys = [\"a\", \"b\", \"c\", \"d\"]\n",
    "    values = [1, 3, 5, 7]\n",
    "    return {keys[i]: values[i] for i in range(len(keys))}\n",
    "\n",
    "def create_dict_with_tuples():\n",
    "    return dict([(\"a\", 1), (\"b\", 3), (\"c\", 5), (\"d\", 7)])\n"
   ]
  },
  {
   "cell_type": "markdown",
   "metadata": {},
   "source": [
    "Given the following dictionary, use indexing to get to the word `\"sdia\"`"
   ]
  },
  {
   "cell_type": "code",
   "execution_count": 23,
   "metadata": {},
   "outputs": [],
   "source": [
    "def get_sdia(d):\n",
    "    return d['outer'][3]['inner'][3]['inner_inner'][3]\n",
    "\n",
    "d = {\n",
    "    \"outer\": [\n",
    "        1,\n",
    "        2,\n",
    "        3,\n",
    "        {\"inner\": [\"this\", \"is\", \"inception\", {\"inner_inner\": [1, 2, 3, \"sdia\"]}]},\n",
    "    ]\n",
    "}\n",
    "\n",
    "get_sdia(d)\n",
    "assert get_sdia(d) == \"sdia\""
   ]
  },
  {
   "cell_type": "markdown",
   "metadata": {},
   "source": [
    "From the following dictionary,\n",
    "- Create the list of keys\n",
    "- Create the list of values\n",
    "- Check if the key `\"abc\"` is present, if not, return `123`.\n",
    "- Merge the initial dictionary with `{\"e\": -1, 4: True}`"
   ]
  },
  {
   "cell_type": "code",
   "execution_count": 24,
   "metadata": {},
   "outputs": [
    {
     "name": "stdout",
     "output_type": "stream",
     "text": [
      "Keys: [(0, 1), 'e', 1, None]\n",
      "Values: ['abc', 4, None, (1+2j)]\n",
      "Key check: 123\n",
      "Updated dictionary: {(0, 1): 'abc', 'e': -1, 1: None, None: (1+2j), 4: True}\n"
     ]
    }
   ],
   "source": [
    "def process_dictionary(d1):\n",
    "    # Liste des clés\n",
    "    keys = list(d1.keys())\n",
    "\n",
    "    # Liste des valeurs\n",
    "    values = list(d1.values())\n",
    "\n",
    "    # Vérification de la clé \"abc\"\n",
    "    key_check = d1.get(\"abc\", 123)\n",
    "\n",
    "    # Fusion du dictionnaire initial avec {\"e\": -1, 4: True}\n",
    "    d1.update({\"e\": -1, 4: True})\n",
    "\n",
    "    return keys, values, key_check, d1\n",
    "\n",
    "d1 = dict(zip([(0, 1), \"e\", 1, None], [\"abc\", 4, None, 1 + 2j]))\n",
    "\n",
    "keys, values, key_check, updated_d1 = process_dictionary(d1)\n",
    "print(f'Keys: {keys}')  # Affiche la liste des clés\n",
    "print(f'Values: {values}')  # Affiche la liste des valeurs\n",
    "print(f'Key check: {key_check}')  # Affiche 123 car \"abc\" n'est pas une clé\n",
    "print(f'Updated dictionary: {updated_d1}')  # Affiche le dictionnaire mis à jour\n",
    "\n",
    "assert keys == [(0, 1), 'e', 1, None]\n",
    "assert values == ['abc', 4, None, (1+2j)]\n",
    "assert key_check == 123\n",
    "assert updated_d1 == {(0, 1): 'abc', 'e': -1, 1: None, None: (1+2j), 4: True}\n"
   ]
  },
  {
   "cell_type": "markdown",
   "metadata": {},
   "source": [
    "## Conditions"
   ]
  },
  {
   "cell_type": "markdown",
   "metadata": {},
   "source": [
    "Propose two ways to construct the list of odd values ranging from 0 to 30"
   ]
  },
  {
   "cell_type": "code",
   "execution_count": 25,
   "metadata": {},
   "outputs": [],
   "source": [
    "odd_values = [x for x in range(31) if x % 2 != 0]\n",
    "odd_values = list(range(1, 31, 2))"
   ]
  },
  {
   "cell_type": "markdown",
   "metadata": {},
   "source": [
    "From the following list, create another list which contains\n",
    "- `\"fiz\"` if the item is a multiple of 5,\n",
    "- `\"buz\"` if the item is a multiple of 7,\n",
    "- `\"fizbuz\"` if the item is a both a multiple of 5 and 7,\n",
    "- the index of the item otherwise."
   ]
  },
  {
   "cell_type": "code",
   "execution_count": 26,
   "metadata": {},
   "outputs": [
    {
     "name": "stdout",
     "output_type": "stream",
     "text": [
      "[0, 1, 2, 3, 'fizbuz', 'fiz', 'fizbuz', 7, 8, 'buz']\n"
     ]
    }
   ],
   "source": [
    "def create_fizbuz_list(x):\n",
    "    return [\n",
    "        \"fizbuz\" if i % 5 == 0 and i % 7 == 0 else\n",
    "        \"fiz\" if i % 5 == 0 else\n",
    "        \"buz\" if i % 7 == 0 else\n",
    "        idx for idx, i in enumerate(x)\n",
    "    ]\n",
    "\n",
    "x = [2, 1, 3, 31, 35, 20, 70, 132, 144, 49]\n",
    "new_x = create_fizbuz_list(x)\n",
    "print(new_x)\n",
    "\n",
    "assert create_fizbuz_list(x) == [0, 1, 2, 3, 'fizbuz', 'fiz', 'fizbuz', 7, 8, 'buz']"
   ]
  },
  {
   "cell_type": "markdown",
   "metadata": {},
   "source": [
    "Given a string variable `course`, construct a `if/elif/else` statement that prints:\n",
    "- `\"That is very useful!\"` if `course` is `\"maths\"` (any kind of capitalization)\n",
    "- `\"That is very useful!\"` if `course` is `\"python\"` (any kind of capitalization)\n",
    "- `\"How nice!\"` if `course` is `\"meditation\"` (any kind of capitalization)\n",
    "- `\"You're not at Hogwarts\"` if `course` is `\"magic\"` (any kind of capitalization)\n",
    "- otherwise `\"What is this COURSE?\"` if `course` is anything else."
   ]
  },
  {
   "cell_type": "code",
   "execution_count": 27,
   "metadata": {},
   "outputs": [
    {
     "name": "stdout",
     "output_type": "stream",
     "text": [
      "Tous les tests sont passés!\n"
     ]
    }
   ],
   "source": [
    "def my_sentence(course):\n",
    "    course = course.lower()\n",
    "    if course == 'math' or course == 'python':\n",
    "        return \"That is very useful!\"\n",
    "    elif course == \"meditation\":\n",
    "        return \"How nice!\"\n",
    "    elif course == \"magic\":\n",
    "        return \"You're not at Hogwarts!\"\n",
    "    else:\n",
    "        return \"What is this COURSE\"\n",
    "\n",
    "# Test cases using assert\n",
    "def test_my_sentence():\n",
    "    assert my_sentence('Math') == \"That is very useful!\"\n",
    "    assert my_sentence('Python') == \"That is very useful!\"\n",
    "    assert my_sentence('Meditation') == \"How nice!\"\n",
    "    assert my_sentence('Magic') == \"You're not at Hogwarts!\"\n",
    "    assert my_sentence('History') == \"What is this COURSE\"\n",
    "\n",
    "# Run the test\n",
    "test_my_sentence()\n",
    "print(\"Tous les tests sont passés!\")\n"
   ]
  },
  {
   "cell_type": "markdown",
   "metadata": {},
   "source": [
    "Given the following variables, create and print the string\n",
    "\n",
    "``quantity`` ``fruit``(s) cost(s) $``price``\n",
    "\n",
    "such that\n",
    "- there is an `\"s\"` at `\"cost\"` when there is more only one fruit,\n",
    "- there is an `\"s\"` at `\"fruit\"` when there is more that one fruit,\n",
    "- the price is displayed as ...,xxx,xxx.yy where yy corresponds rounded cents value"
   ]
  },
  {
   "cell_type": "code",
   "execution_count": 28,
   "metadata": {},
   "outputs": [
    {
     "name": "stdout",
     "output_type": "stream",
     "text": [
      "All tests passed!\n"
     ]
    }
   ],
   "source": [
    "def format_fruit_statement(quantity, fruit, price):\n",
    "    # Add an \"s\" to \"fruit\" if quantity > 1\n",
    "    fruit_str = fruit + \"s\" if quantity > 1 else fruit\n",
    "\n",
    "    # Use \"costs\" when quantity is 1, \"cost\" otherwise\n",
    "    cost_str = \"costs\" if quantity == 1 else \"cost\"\n",
    "\n",
    "    # Format the price with thousands separator and two decimal places\n",
    "    price_str = f\"{price:,.2f}\"\n",
    "\n",
    "    # Create the final string\n",
    "    result = f\"{quantity} {fruit_str} {cost_str} ${price_str}\"\n",
    "\n",
    "    return result\n",
    "\n",
    "# Test cases using assert\n",
    "def test_format_fruit_statement():\n",
    "    assert format_fruit_statement(1, \"apple\", 0.99) == \"1 apple costs $0.99\"  # singular: \"costs\"\n",
    "    assert format_fruit_statement(5, \"apple\", 4.99) == \"5 apples cost $4.99\"  # plural: \"cost\"\n",
    "    assert format_fruit_statement(1, \"orange\", 1000) == \"1 orange costs $1,000.00\"  # singular: \"costs\"\n",
    "    assert format_fruit_statement(2, \"banana\", 2000.1234) == \"2 bananas cost $2,000.12\"  # plural: \"cost\"\n",
    "    # Test with \"berry\" expecting \"berrys\" because we add \"s\"\n",
    "    assert format_fruit_statement(10, \"berry\", 5000000) == \"10 berrys cost $5,000,000.00\"  # plural: \"cost\"\n",
    "\n",
    "# Run the test\n",
    "test_format_fruit_statement()\n",
    "print(\"All tests passed!\")\n"
   ]
  },
  {
   "cell_type": "code",
   "execution_count": 29,
   "metadata": {},
   "outputs": [
    {
     "name": "stdout",
     "output_type": "stream",
     "text": [
      "1 avocado costs $18,912.39\n"
     ]
    }
   ],
   "source": [
    "quantity = 1\n",
    "fruit = \"avocado\"\n",
    "price = 1.8912392e4\n",
    "\n",
    "# Appel de la fonction\n",
    "output = format_fruit_statement(quantity, fruit, price)\n",
    "print(output)"
   ]
  },
  {
   "cell_type": "markdown",
   "metadata": {},
   "source": [
    "## Functions"
   ]
  },
  {
   "cell_type": "markdown",
   "metadata": {},
   "source": [
    "Define the function `is_unique(x)` which takes a list of integers `x` as input and returns `True` if the there is no duplicate items otherwise return `False`."
   ]
  },
  {
   "cell_type": "code",
   "execution_count": 30,
   "metadata": {},
   "outputs": [],
   "source": [
    "x = [1, 2, 3, 4, 5, 6, 7, 8, 9, 10]\n",
    "def is_unique(x):\n",
    "    return len(x) == len(set(x))\n",
    "\n",
    "assert is_unique([1, 2, 3, 4, 5]) == True\n",
    "assert is_unique([1, 2, 3, 4, 5, 5]) == False"
   ]
  },
  {
   "cell_type": "markdown",
   "metadata": {},
   "source": [
    "Define a function `triangle_shape(height)`, that returns \n",
    "- `\"\"` if `height=0`, \n",
    "- otherwise it returns a string that forms a triangle with height prescribed by `height`.\n",
    "\n",
    "**Examples**\n",
    "\n",
    "height=1\n",
    "```\n",
    "x\n",
    "```\n",
    "\n",
    "height=2\n",
    "```\n",
    " x \n",
    "xxx\n",
    "```\n",
    "\n",
    "height=3\n",
    "```\n",
    "  x  \n",
    " xxx \n",
    "xxxxx\n",
    "```\n",
    "\n",
    "height=4\n",
    "```\n",
    "   x   \n",
    "  xxx  \n",
    " xxxxx \n",
    "xxxxxxx\n",
    "```\n",
    "\n",
    "height=5\n",
    "```\n",
    "    x    \n",
    "   xxx   \n",
    "  xxxxx  \n",
    " xxxxxxx \n",
    "xxxxxxxxx\n",
    "```\n",
    "\n",
    "height=6\n",
    "```\n",
    "     x     \n",
    "    xxx    \n",
    "   xxxxx   \n",
    "  xxxxxxx  \n",
    " xxxxxxxxx \n",
    "xxxxxxxxxxx\n",
    "```"
   ]
  },
  {
   "cell_type": "code",
   "execution_count": 31,
   "metadata": {},
   "outputs": [],
   "source": [
    "def triangle_shape(height):\n",
    "    j = height\n",
    "    for i in range(height + 1):\n",
    "        print(j*' ' + 'x'*(2*i - 1))\n",
    "        j -= 1\n"
   ]
  },
  {
   "cell_type": "code",
   "execution_count": 32,
   "metadata": {},
   "outputs": [
    {
     "name": "stdout",
     "output_type": "stream",
     "text": [
      " \n",
      "x\n"
     ]
    }
   ],
   "source": [
    "triangle_shape(1)"
   ]
  },
  {
   "cell_type": "code",
   "execution_count": 33,
   "metadata": {},
   "outputs": [
    {
     "name": "stdout",
     "output_type": "stream",
     "text": [
      "  \n",
      " x\n",
      "xxx\n"
     ]
    }
   ],
   "source": [
    "triangle_shape(2)"
   ]
  },
  {
   "cell_type": "code",
   "execution_count": 34,
   "metadata": {},
   "outputs": [
    {
     "name": "stdout",
     "output_type": "stream",
     "text": [
      "   \n",
      "  x\n",
      " xxx\n",
      "xxxxx\n"
     ]
    }
   ],
   "source": [
    "triangle_shape(3)"
   ]
  },
  {
   "cell_type": "code",
   "execution_count": 35,
   "metadata": {},
   "outputs": [
    {
     "name": "stdout",
     "output_type": "stream",
     "text": [
      "    \n",
      "   x\n",
      "  xxx\n",
      " xxxxx\n",
      "xxxxxxx\n"
     ]
    }
   ],
   "source": [
    "triangle_shape(4)"
   ]
  },
  {
   "cell_type": "code",
   "execution_count": 36,
   "metadata": {},
   "outputs": [
    {
     "name": "stdout",
     "output_type": "stream",
     "text": [
      "     \n",
      "    x\n",
      "   xxx\n",
      "  xxxxx\n",
      " xxxxxxx\n",
      "xxxxxxxxx\n"
     ]
    }
   ],
   "source": [
    "triangle_shape(5)"
   ]
  },
  {
   "cell_type": "code",
   "execution_count": 37,
   "metadata": {},
   "outputs": [
    {
     "name": "stdout",
     "output_type": "stream",
     "text": [
      "      \n",
      "     x\n",
      "    xxx\n",
      "   xxxxx\n",
      "  xxxxxxx\n",
      " xxxxxxxxx\n",
      "xxxxxxxxxxx\n"
     ]
    }
   ],
   "source": [
    "triangle_shape(6)"
   ]
  },
  {
   "cell_type": "code",
   "execution_count": 38,
   "metadata": {},
   "outputs": [
    {
     "name": "stdout",
     "output_type": "stream",
     "text": [
      "                    \n",
      "                   x\n",
      "                  xxx\n",
      "                 xxxxx\n",
      "                xxxxxxx\n",
      "               xxxxxxxxx\n",
      "              xxxxxxxxxxx\n",
      "             xxxxxxxxxxxxx\n",
      "            xxxxxxxxxxxxxxx\n",
      "           xxxxxxxxxxxxxxxxx\n",
      "          xxxxxxxxxxxxxxxxxxx\n",
      "         xxxxxxxxxxxxxxxxxxxxx\n",
      "        xxxxxxxxxxxxxxxxxxxxxxx\n",
      "       xxxxxxxxxxxxxxxxxxxxxxxxx\n",
      "      xxxxxxxxxxxxxxxxxxxxxxxxxxx\n",
      "     xxxxxxxxxxxxxxxxxxxxxxxxxxxxx\n",
      "    xxxxxxxxxxxxxxxxxxxxxxxxxxxxxxx\n",
      "   xxxxxxxxxxxxxxxxxxxxxxxxxxxxxxxxx\n",
      "  xxxxxxxxxxxxxxxxxxxxxxxxxxxxxxxxxxx\n",
      " xxxxxxxxxxxxxxxxxxxxxxxxxxxxxxxxxxxxx\n",
      "xxxxxxxxxxxxxxxxxxxxxxxxxxxxxxxxxxxxxxx\n"
     ]
    }
   ],
   "source": [
    "triangle_shape(20)"
   ]
  }
 ],
 "metadata": {
  "kernelspec": {
   "display_name": "Python 3.8.10 64-bit",
   "language": "python",
   "name": "python3"
  },
  "language_info": {
   "codemirror_mode": {
    "name": "ipython",
    "version": 3
   },
   "file_extension": ".py",
   "mimetype": "text/x-python",
   "name": "python",
   "nbconvert_exporter": "python",
   "pygments_lexer": "ipython3",
   "version": "3.8.19"
  },
  "orig_nbformat": 4,
  "vscode": {
   "interpreter": {
    "hash": "916dbcbb3f70747c44a77c7bcd40155683ae19c65e1c03b4aa3499c5328201f1"
   }
  }
 },
 "nbformat": 4,
 "nbformat_minor": 2
}
